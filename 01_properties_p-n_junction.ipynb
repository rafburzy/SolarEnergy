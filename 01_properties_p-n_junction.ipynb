{
 "cells": [
  {
   "cell_type": "markdown",
   "metadata": {},
   "source": [
    "## Functions used for calculation of a p-n junction of a solar cell"
   ]
  },
  {
   "cell_type": "code",
   "execution_count": 1,
   "metadata": {
    "collapsed": true
   },
   "outputs": [],
   "source": [
    "import numpy as np\n",
    "import matplotlib.pyplot as plt\n",
    "%matplotlib inline\n",
    "\n",
    "plt.style.use('ggplot')\n",
    "\n",
    "# importing module with functions\n",
    "import solarenergy.functions as sem"
   ]
  },
  {
   "cell_type": "markdown",
   "metadata": {},
   "source": [
    "#### p-n junction properties"
   ]
  },
  {
   "cell_type": "code",
   "execution_count": 2,
   "metadata": {},
   "outputs": [
    {
     "data": {
      "text/plain": [
       "0.81211348873158107"
      ]
     },
     "execution_count": 2,
     "metadata": {},
     "output_type": "execute_result"
    }
   ],
   "source": [
    "# checking of calculation of voltage built across the junction in [V]\n",
    "Vbi = sem.junctionVoltage(Na=1e16, Nd=1e18, ni=1.5e10, T=300)\n",
    "Vbi"
   ]
  },
  {
   "cell_type": "code",
   "execution_count": 3,
   "metadata": {},
   "outputs": [
    {
     "data": {
      "text/plain": [
       "0.32569829157110974"
      ]
     },
     "execution_count": 3,
     "metadata": {},
     "output_type": "execute_result"
    }
   ],
   "source": [
    "# calculation of the width of a depletion zone in [micro m]\n",
    "W = sem.deplRegWidth(Na=1e16, Nd=1e18, Vbi=Vbi)\n",
    "W"
   ]
  },
  {
   "cell_type": "code",
   "execution_count": 4,
   "metadata": {},
   "outputs": [
    {
     "data": {
      "text/plain": [
       "749.736"
      ]
     },
     "execution_count": 4,
     "metadata": {},
     "output_type": "execute_result"
    }
   ],
   "source": [
    "# diffusivity [cm2/s]\n",
    "De = 36\n",
    "\n",
    "# change of carriers density [1/cm3]\n",
    "n1 = 2.7e16\n",
    "n2 = 1.0e15\n",
    "dn = n1 - n2\n",
    "\n",
    "# length at which the change of carriers density occurs [cm]\n",
    "dx = 2.0e-4\n",
    "\n",
    "# diffusion current density [A/cm2]\n",
    "\n",
    "Jd = sem.diffCurrentDensity(De=De, dn=dn, dx=dx)\n",
    "Jd"
   ]
  },
  {
   "cell_type": "code",
   "execution_count": 5,
   "metadata": {},
   "outputs": [
    {
     "data": {
      "text/plain": [
       "3466.666666666667"
      ]
     },
     "execution_count": 5,
     "metadata": {},
     "output_type": "execute_result"
    }
   ],
   "source": [
    "# calculation of electric field density to compensate the diffusion current\n",
    "\n",
    "# electron mobility [cm2/Vs]\n",
    "ne = 1350\n",
    "\n",
    "E = Jd/(n2*ne*sem.q)\n",
    "E # [V/cm]"
   ]
  },
  {
   "cell_type": "code",
   "execution_count": 6,
   "metadata": {},
   "outputs": [
    {
     "data": {
      "text/plain": [
       "749.736"
      ]
     },
     "execution_count": 6,
     "metadata": {},
     "output_type": "execute_result"
    }
   ],
   "source": [
    "# checking if the drift current density at this electric field intensity will be equal to diffusion current density\n",
    "Jdr = sem.driftCurrentDensity(n=n2, ne=ne, E=E)\n",
    "Jdr"
   ]
  },
  {
   "cell_type": "markdown",
   "metadata": {},
   "source": [
    "#### Law of mass"
   ]
  },
  {
   "cell_type": "code",
   "execution_count": 7,
   "metadata": {},
   "outputs": [
    {
     "data": {
      "text/plain": [
       "225.0"
      ]
     },
     "execution_count": 7,
     "metadata": {},
     "output_type": "execute_result"
    }
   ],
   "source": [
    "# intrinsic carrier concentration [1/cm3]\n",
    "ni = 1.5e10\n",
    "\n",
    "# n-type doping - concentration of donors [1/cm3]\n",
    "Nd = 1.0e18\n",
    "\n",
    "# so minority charge concentration of holes [1/cm3]\n",
    "p = ni**2/Nd\n",
    "p"
   ]
  },
  {
   "cell_type": "markdown",
   "metadata": {},
   "source": [
    "#### Diffusion length"
   ]
  },
  {
   "cell_type": "code",
   "execution_count": 8,
   "metadata": {},
   "outputs": [
    {
     "data": {
      "text/plain": [
       "201.24611797498108"
      ]
     },
     "execution_count": 8,
     "metadata": {},
     "output_type": "execute_result"
    }
   ],
   "source": [
    "# diffisivity [cm2/s]\n",
    "D = 27\n",
    "\n",
    "# life time [micro s]\n",
    "tau = 15\n",
    "\n",
    "# diffusion length [micro m]\n",
    "L = np.sqrt(D*1e-4 * tau*1e-6)*1e6\n",
    "L"
   ]
  },
  {
   "cell_type": "code",
   "execution_count": 9,
   "metadata": {},
   "outputs": [
    {
     "data": {
      "text/plain": [
       "15.0"
      ]
     },
     "execution_count": 9,
     "metadata": {},
     "output_type": "execute_result"
    }
   ],
   "source": [
    "# diffusion length [micro m]\n",
    "L2 = 200.0\n",
    "\n",
    "# diffisivity [cm2/s]\n",
    "D = 27.0\n",
    "\n",
    "# life time [micro s]\n",
    "tau = (L*1.0e-6)**2/(D*1.0e-4)*1.0e6\n",
    "tau"
   ]
  },
  {
   "cell_type": "markdown",
   "metadata": {},
   "source": [
    "#### Open circuit voltage"
   ]
  },
  {
   "cell_type": "code",
   "execution_count": 10,
   "metadata": {},
   "outputs": [
    {
     "data": {
      "text/plain": [
       "0.67312216097092492"
      ]
     },
     "execution_count": 10,
     "metadata": {},
     "output_type": "execute_result"
    }
   ],
   "source": [
    "Voc = sem.openCirVoltage(Jph=40, Jo=1.95e-10, T=300)\n",
    "Voc #[V]"
   ]
  },
  {
   "cell_type": "markdown",
   "metadata": {
    "collapsed": true
   },
   "source": [
    "#### Black body radiance\n",
    "Spectral power density distribution"
   ]
  },
  {
   "cell_type": "code",
   "execution_count": 11,
   "metadata": {},
   "outputs": [
    {
     "data": {
      "image/png": "[encoded data removed]",
      "text/plain": [
       "<matplotlib.figure.Figure at 0x1122fdba8>"
      ]
     },
     "metadata": {},
     "output_type": "display_data"
    }
   ],
   "source": [
    "# wavelength\n",
    "l = np.arange(100e-9, 3000e-9, 10e-9)\n",
    "\n",
    "P = sem.spectralRadiance(l, 5800)\n",
    "P2 = sem.spectralRadiance(l, 5000)\n",
    "P3 = sem.spectralRadiance(l, 4000)\n",
    "\n",
    "plt.figure(figsize=(10,6))\n",
    "plt.plot(l*1e9,P, label='T = 5800K')\n",
    "plt.plot(l*1e9,P2, label='T = 5000K')\n",
    "plt.plot(l*1e9,P3, label='T = 4000K')\n",
    "plt.axvline(390, linestyle=':')\n",
    "plt.axvline(700, linestyle=':')\n",
    "plt.xlabel('Wavelength [nm]')\n",
    "plt.ylabel('Power spectral density [W/(m2 * m)]')\n",
    "plt.legend();"
   ]
  },
  {
   "cell_type": "code",
   "execution_count": null,
   "metadata": {
    "collapsed": true
   },
   "outputs": [],
   "source": []
  }
 ],
 "metadata": {
  "kernelspec": {
   "display_name": "Python 3",
   "language": "python",
   "name": "python3"
  },
  "language_info": {
   "codemirror_mode": {
    "name": "ipython",
    "version": 3
   },
   "file_extension": ".py",
   "mimetype": "text/x-python",
   "name": "python",
   "nbconvert_exporter": "python",
   "pygments_lexer": "ipython3",
   "version": "3.6.0"
  }
 },
 "nbformat": 4,
 "nbformat_minor": 2
}
