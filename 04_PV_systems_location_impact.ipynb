{
 "cells": [
  {
   "cell_type": "code",
   "execution_count": 1,
   "metadata": {
    "collapsed": true
   },
   "outputs": [],
   "source": [
    "import pandas as pd"
   ]
  },
  {
   "cell_type": "code",
   "execution_count": 2,
   "metadata": {
    "collapsed": true
   },
   "outputs": [],
   "source": [
    "df = pd.read_csv('Locationdata.dat')"
   ]
  },
  {
   "cell_type": "code",
   "execution_count": 3,
   "metadata": {},
   "outputs": [
    {
     "data": {
      "text/html": [
       "<div>\n",
       "<table border=\"1\" class=\"dataframe\">\n",
       "  <thead>\n",
       "    <tr style=\"text-align: right;\">\n",
       "      <th></th>\n",
       "      <th>Hour</th>\n",
       "      <th>As</th>\n",
       "      <th>as</th>\n",
       "      <th>DNI</th>\n",
       "      <th>DHI</th>\n",
       "      <th>GHI</th>\n",
       "      <th>SF_Site1</th>\n",
       "      <th>SF_Site2</th>\n",
       "      <th>SF_Site3</th>\n",
       "      <th>SF_Site4</th>\n",
       "    </tr>\n",
       "  </thead>\n",
       "  <tbody>\n",
       "    <tr>\n",
       "      <th>0</th>\n",
       "      <td>0</td>\n",
       "      <td>0.0</td>\n",
       "      <td>0.0</td>\n",
       "      <td>0</td>\n",
       "      <td>0</td>\n",
       "      <td>0</td>\n",
       "      <td>0</td>\n",
       "      <td>0</td>\n",
       "      <td>0</td>\n",
       "      <td>0</td>\n",
       "    </tr>\n",
       "    <tr>\n",
       "      <th>1</th>\n",
       "      <td>1</td>\n",
       "      <td>4.1</td>\n",
       "      <td>-26.8</td>\n",
       "      <td>0</td>\n",
       "      <td>0</td>\n",
       "      <td>0</td>\n",
       "      <td>0</td>\n",
       "      <td>0</td>\n",
       "      <td>0</td>\n",
       "      <td>0</td>\n",
       "    </tr>\n",
       "    <tr>\n",
       "      <th>2</th>\n",
       "      <td>2</td>\n",
       "      <td>20.3</td>\n",
       "      <td>-24.9</td>\n",
       "      <td>0</td>\n",
       "      <td>0</td>\n",
       "      <td>0</td>\n",
       "      <td>0</td>\n",
       "      <td>0</td>\n",
       "      <td>0</td>\n",
       "      <td>0</td>\n",
       "    </tr>\n",
       "    <tr>\n",
       "      <th>3</th>\n",
       "      <td>3</td>\n",
       "      <td>35.6</td>\n",
       "      <td>-20.5</td>\n",
       "      <td>0</td>\n",
       "      <td>0</td>\n",
       "      <td>0</td>\n",
       "      <td>0</td>\n",
       "      <td>0</td>\n",
       "      <td>0</td>\n",
       "      <td>0</td>\n",
       "    </tr>\n",
       "    <tr>\n",
       "      <th>4</th>\n",
       "      <td>4</td>\n",
       "      <td>49.6</td>\n",
       "      <td>-14.3</td>\n",
       "      <td>0</td>\n",
       "      <td>0</td>\n",
       "      <td>0</td>\n",
       "      <td>0</td>\n",
       "      <td>0</td>\n",
       "      <td>0</td>\n",
       "      <td>0</td>\n",
       "    </tr>\n",
       "  </tbody>\n",
       "</table>\n",
       "</div>"
      ],
      "text/plain": [
       "   Hour    As    as  DNI  DHI  GHI  SF_Site1  SF_Site2  SF_Site3  SF_Site4\n",
       "0     0   0.0   0.0    0    0    0         0         0         0         0\n",
       "1     1   4.1 -26.8    0    0    0         0         0         0         0\n",
       "2     2  20.3 -24.9    0    0    0         0         0         0         0\n",
       "3     3  35.6 -20.5    0    0    0         0         0         0         0\n",
       "4     4  49.6 -14.3    0    0    0         0         0         0         0"
      ]
     },
     "execution_count": 3,
     "metadata": {},
     "output_type": "execute_result"
    }
   ],
   "source": [
    "df.head()"
   ]
  },
  {
   "cell_type": "code",
   "execution_count": 4,
   "metadata": {},
   "outputs": [
    {
     "data": {
      "text/plain": [
       "(24, 10)"
      ]
     },
     "execution_count": 4,
     "metadata": {},
     "output_type": "execute_result"
    }
   ],
   "source": [
    "df.shape"
   ]
  },
  {
   "cell_type": "markdown",
   "metadata": {},
   "source": [
    "## Shade profiles\n",
    "\n",
    "#### Site 1\n",
    "<img src='Site 1.png'>\n",
    "\n",
    "#### Site 2\n",
    "<img src='Site 2.png'>\n",
    "\n",
    "#### Site 3\n",
    "<img src='Site 3.png'>\n",
    "\n",
    "#### Site 4\n",
    "<img src='Site 4.png'>"
   ]
  },
  {
   "cell_type": "code",
   "execution_count": 5,
   "metadata": {
    "collapsed": true
   },
   "outputs": [],
   "source": [
    "# additional data\n",
    "\n",
    "# albedo\n",
    "alpha = 0.4\n",
    "\n",
    "# module azimuth\n",
    "Am = 180\n",
    "\n",
    "# module tilt angle\n",
    "theta = 35\n",
    "am = 90 - theta\n",
    "\n",
    "# Sky view factors for the sites 1-4\n",
    "SVF = [0.8151, 0.6304, 0.6077, 0.3661]"
   ]
  },
  {
   "cell_type": "code",
   "execution_count": 6,
   "metadata": {
    "collapsed": true
   },
   "outputs": [],
   "source": [
    "import numpy as np"
   ]
  },
  {
   "cell_type": "code",
   "execution_count": 8,
   "metadata": {},
   "outputs": [],
   "source": [
    "# cos of angle of irradiance\n",
    "\n",
    "df['cos_AOI'] = np.cos(np.radians(am)) * np.cos(np.radians(df['as'])) *\\\n",
    "                       np.cos(np.radians(Am - df['As'])) + np.sin(np.radians(am)) * np.sin(np.radians(df['as']))\n"
   ]
  },
  {
   "cell_type": "code",
   "execution_count": 18,
   "metadata": {},
   "outputs": [
    {
     "data": {
      "text/plain": [
       "Index(['Hour', 'As', 'as', 'DNI', 'DHI', 'GHI', 'SF_Site1', 'SF_Site2',\n",
       "       'SF_Site3', 'SF_Site4', 'cos_AOI'],\n",
       "      dtype='object')"
      ]
     },
     "execution_count": 18,
     "metadata": {},
     "output_type": "execute_result"
    }
   ],
   "source": [
    "df.columns"
   ]
  },
  {
   "cell_type": "code",
   "execution_count": 23,
   "metadata": {
    "collapsed": true
   },
   "outputs": [],
   "source": [
    "# Direct irradiance\n",
    "df['Gdirect_Site1'] = df['DNI']*df['cos_AOI']*df['SF_Site1']\n",
    "df['Gdirect_Site2'] = df['DNI']*df['cos_AOI']*df['SF_Site2']\n",
    "df['Gdirect_Site3'] = df['DNI']*df['cos_AOI']*df['SF_Site3']\n",
    "df['Gdirect_Site4'] = df['DNI']*df['cos_AOI']*df['SF_Site4']\n",
    "\n",
    "# Diffuse irradiance\n",
    "df['Gdiffuse_Site1'] = SVF[0] * df['DHI']\n",
    "df['Gdiffuse_Site2'] = SVF[1] * df['DHI']\n",
    "df['Gdiffuse_Site3'] = SVF[2] * df['DHI']\n",
    "df['Gdiffuse_Site4'] = SVF[3] * df['DHI']\n",
    "\n",
    "# Albedo irradiance\n",
    "df['Galbedo_Site1'] = df['GHI'] * alpha * (1 - SVF[0])\n",
    "df['Galbedo_Site2'] = df['GHI'] * alpha * (1 - SVF[1])\n",
    "df['Galbedo_Site3'] = df['GHI'] * alpha * (1 - SVF[2])\n",
    "df['Galbedo_Site4'] = df['GHI'] * alpha * (1 - SVF[3])\n",
    "\n",
    "# Total irradiance\n",
    "df['G_Site1'] = df['Gdirect_Site1'] + df['Gdiffuse_Site1'] + df['Galbedo_Site1']\n",
    "df['G_Site2'] = df['Gdirect_Site2'] + df['Gdiffuse_Site2'] + df['Galbedo_Site2']\n",
    "df['G_Site3'] = df['Gdirect_Site3'] + df['Gdiffuse_Site3'] + df['Galbedo_Site3']\n",
    "df['G_Site4'] = df['Gdirect_Site4'] + df['Gdiffuse_Site4'] + df['Galbedo_Site4']"
   ]
  },
  {
   "cell_type": "code",
   "execution_count": 28,
   "metadata": {
    "collapsed": true
   },
   "outputs": [],
   "source": [
    "# Energy calculation\n",
    "E_site1 = np.sum(df['G_Site1'])\n",
    "E_site2 = np.sum(df['G_Site2'])\n",
    "E_site3 = np.sum(df['G_Site3'])\n",
    "E_site4 = np.sum(df['G_Site4'])"
   ]
  },
  {
   "cell_type": "code",
   "execution_count": 29,
   "metadata": {},
   "outputs": [
    {
     "data": {
      "text/plain": [
       "(5959.544666454584, 5748.254623804166, 3571.832190459792, 3766.1246640739937)"
      ]
     },
     "execution_count": 29,
     "metadata": {},
     "output_type": "execute_result"
    }
   ],
   "source": [
    "E_site1, E_site2, E_site3, E_site4"
   ]
  },
  {
   "cell_type": "markdown",
   "metadata": {},
   "source": [
    "### Licensing\n",
    "This material was created by or adapted from material posted on the Delftx website, delftx.tudelft.nl, and created by TU Delft faculty member Olindo Isabella, Asistant Professor, 2017. DelftX is not responsible for any changes made to the original materials posted on its website and any such changes are the sole responsibility of the author of this notebook."
   ]
  },
  {
   "cell_type": "code",
   "execution_count": null,
   "metadata": {
    "collapsed": true
   },
   "outputs": [],
   "source": []
  }
 ],
 "metadata": {
  "kernelspec": {
   "display_name": "Python 3",
   "language": "python",
   "name": "python3"
  },
  "language_info": {
   "codemirror_mode": {
    "name": "ipython",
    "version": 3
   },
   "file_extension": ".py",
   "mimetype": "text/x-python",
   "name": "python",
   "nbconvert_exporter": "python",
   "pygments_lexer": "ipython3",
   "version": "3.6.0"
  }
 },
 "nbformat": 4,
 "nbformat_minor": 2
}
