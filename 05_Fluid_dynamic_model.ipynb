{
 "cells": [
  {
   "cell_type": "markdown",
   "metadata": {},
   "source": [
    "## Fluid dynamic model for PV module temperature estimation\n",
    "\n",
    "<img src=\"sourcedata/PV_module_temp.png\"><br>\n",
    "Source: DelftX training; delftx.tudelft.nl"
   ]
  },
  {
   "cell_type": "markdown",
   "metadata": {},
   "source": [
    "### Calculation of a PV module temperature at given conditions"
   ]
  },
  {
   "cell_type": "code",
   "execution_count": 1,
   "metadata": {
    "collapsed": true
   },
   "outputs": [],
   "source": [
    "# Meteorological Variables\n",
    "Gm = 400 # W/m2\n",
    "w = 5 # wind sped (m/s)\n",
    "Tgr = 13+273 # Temperature of ground (Kelvin)\n",
    "Ta = 15+273 # Temperature of air (Kelvin)\n",
    "\n",
    "# PV Module Parameters\n",
    "L = 1.56 # [m] PV module Length   \n",
    "W = 1.05 # [m] PV module Width\n",
    "emi_top = 0.84 # PV module top surface emissivity \n",
    "emi_bottom = 0.893 # PV module back surface emissivity\n",
    "Tnoct = 273+43 # NOCT Temperature is 43 degree celcius, obtained from the module spec sheet.\n",
    "Ref = 0.1 # reflectivity of PV module surface\n",
    "Eff_stc = 0.20 # efficiecny of the PV module at STC\n",
    "\n",
    "#Physical Constants\n",
    "g = 9.8 # [m/s2] \n",
    "Pr = 0.71 # Prandle Number\n",
    "kvis = 14.6e-6 # air viscosity \n",
    "k = 0.026 # [W/m*K] thermal conductivity of air  in   \n",
    "SB = 5.67e-8 # [W*m^-2*K^-4 ] Stefan-Boltzmnan constant "
   ]
  },
  {
   "cell_type": "code",
   "execution_count": 36,
   "metadata": {},
   "outputs": [
    {
     "data": {
      "text/plain": [
       "32.16107157867566"
      ]
     },
     "execution_count": 36,
     "metadata": {},
     "output_type": "execute_result"
    }
   ],
   "source": [
    "Tm = 293  # [K] - Initial Temperature of the PV module --> 20+273 = 293 K\n",
    "for i in range(5):\n",
    "    # sky temperature (since we have 6 okta it can be assumed to be equal to air temp)\n",
    "    Tsky = Ta\n",
    "\n",
    "    # calculation of radiative heat transfer coefficient between module and sky\n",
    "    h_r_sky = emi_top * SB * (Tm**2 + Tsky**2) * (Tm + Tsky)\n",
    "\n",
    "    # calculation of radiative heat transfer coefficient between module and ground\n",
    "    h_r_gr = emi_bottom * SB * (Tm**2 + Tgr**2) * (Tm + Tgr)\n",
    "    \n",
    "    # since wind speed is greater than 3 m/s we have turbulent flow for forced convection\n",
    "\n",
    "    # hydraulic diameter of a PV module\n",
    "    Dh = 2*L*W/(L+W)\n",
    "\n",
    "    # Reynold's number\n",
    "    Re = w*Dh/kvis\n",
    "\n",
    "    # air density\n",
    "    ro = 1.225 # [kg/m3]\n",
    "\n",
    "    # air specific heat\n",
    "    cv = 713 # [J/kgK]\n",
    "\n",
    "    h_forced = 0.028*Re**-0.2/(Pr**0.4)*ro*cv*w\n",
    "\n",
    "    h_f2 = w**0.8\n",
    "    \n",
    "    # free convection\n",
    "\n",
    "    # Grashof number\n",
    "    Gr = g*1/Tm*(Tm - Ta)*Dh**3/kvis**2\n",
    "\n",
    "    # Nusselt number\n",
    "    Nu = 0.21*(Gr * Pr)**0.32\n",
    "\n",
    "    # free convection HTC\n",
    "    h_free = Nu*k/Dh\n",
    "    \n",
    "    # total convection for front surface\n",
    "    h_c_top = (h_free**3 + h_f2**3)**(1/3)\n",
    "    \n",
    "    # absorptivity \n",
    "    alpha = (1 - Ref)*(1 - Eff_stc)\n",
    "    \n",
    "    # temperature INOCT for rack mounted version\n",
    "    Tinoct = Tnoct-3\n",
    "\n",
    "    # R is the Ratio of actual heat transfer coefficient (back side) to the ideal heat transfer coefficient (top side)\n",
    "    R = (alpha*Gm-h_c_top*(Tinoct - Ta) - emi_top*SB*(Tinoct**4 - Tsky**4)) / \\\n",
    "    (h_c_top*(Tinoct - Ta) + emi_top*SB*(Tinoct**4 - Tsky**4))\n",
    "    \n",
    "    # HTC for bottom side\n",
    "    h_c_bottom = R * h_c_top\n",
    "    \n",
    "    # total HTC\n",
    "    h_c = h_c_top + h_c_bottom\n",
    "    \n",
    "    # module temperature\n",
    "    Tm = (alpha*Gm + h_c*Ta + h_r_sky*Tsky + h_r_gr*Tgr) / (h_c + h_r_sky + h_r_gr)\n",
    "\n",
    "Tm - 273"
   ]
  },
  {
   "cell_type": "markdown",
   "metadata": {},
   "source": [
    "#### Introduction of a function that makes the calculations more general and allows to simulate more cases of working conditions of a PV module"
   ]
  },
  {
   "cell_type": "code",
   "execution_count": 42,
   "metadata": {
    "collapsed": true
   },
   "outputs": [],
   "source": [
    "def pvModuleTemp(Tm0, Ta, w, method='1', sky='cloudy', inoct='c', n=5):\n",
    "    '''Function calculating temperature of a PV module using fluid dynamics model\n",
    "    \n",
    "    Inputs:\n",
    "    ---------------\n",
    "    Tm0: initial temperature of a module [K]\n",
    "    Ta: ambient air temperature [K]\n",
    "    w: wind speed [m/s]\n",
    "    method: method of calculation of htc for forced convection\n",
    "        '1': exact from Re and Pr numbers\n",
    "        '2': approximate based on wind speed\n",
    "    sky: either cloudy (default) or clear\n",
    "    inoct: type of pv module mounting\n",
    "        'a': mounted directly on a roof\n",
    "        'b1': mounted on a roof with a stand-off w = 1 in\n",
    "        'b2': mounted on a roof with a stand-off w = 3 in\n",
    "        'b3': mounted on a roof with a stand-off w = 6 in\n",
    "        'c': rack mounted (default)\n",
    "    \n",
    "    Returns:\n",
    "    ---------------\n",
    "    Tm: PV module temperature [degC]'''\n",
    "    \n",
    "    Tm = Tm0  # [K] - Initial Temperature of the PV module\n",
    "    \n",
    "    for i in range(n):\n",
    "        \n",
    "        # Sky temperature calculation\n",
    "        if sky == 'cloudy':\n",
    "            Tsky = Ta\n",
    "        elif sky == 'clear':\n",
    "            Tsky = 0.0552*Ta**(3/2)\n",
    "        \n",
    "        # calculation of radiative heat transfer coefficient between module and sky\n",
    "        h_r_sky = emi_top * SB * (Tm**2 + Tsky**2) * (Tm + Tsky)\n",
    "\n",
    "        # calculation of radiative heat transfer coefficient between module and ground\n",
    "        h_r_gr = emi_bottom * SB * (Tm**2 + Tgr**2) * (Tm + Tgr)\n",
    "        \n",
    "        # hydraulic diameter of a PV module\n",
    "        Dh = 2*L*W/(L+W)\n",
    "\n",
    "        # Reynold's number\n",
    "        Re = w*Dh/kvis\n",
    "\n",
    "        # air density\n",
    "        ro = 1.225 # [kg/m3]\n",
    "\n",
    "        # air specific heat\n",
    "        cv = 713 # [J/kgK]\n",
    "        \n",
    "        if w > 3:\n",
    "            # turbulent flow\n",
    "            if method == '1':\n",
    "                h_forced = 0.028*Re**-0.2/(Pr**0.4)*ro*cv*w\n",
    "            else:\n",
    "                h_forced = w**0.8\n",
    "        else:\n",
    "            # laminar flow\n",
    "            if method == '1':\n",
    "                h_forced = 0.86*Re**-0.5/(Pr**0.67)*ro*cv*w\n",
    "            else:\n",
    "                h_forced = w**0.5\n",
    "        \n",
    "        # free convection\n",
    "\n",
    "        # Grashof number\n",
    "        Gr = g*1/Tm*(Tm - Ta)*Dh**3/kvis**2\n",
    "\n",
    "        # Nusselt number\n",
    "        Nu = 0.21*(Gr * Pr)**0.32\n",
    "\n",
    "        # free convection HTC\n",
    "        h_free = Nu*k/Dh\n",
    "    \n",
    "        # total convection for front surface\n",
    "        h_c_top = (h_free**3 + h_forced**3)**(1/3)\n",
    "        \n",
    "        # convection for bottom surface\n",
    "    \n",
    "        # absorptivity \n",
    "        alpha = (1 - Ref)*(1 - Eff_stc)\n",
    "    \n",
    "        # temperature INOCT \n",
    "        if inoct == 'c':\n",
    "            # rack mounted version\n",
    "            Tinoct = Tnoct-3\n",
    "        elif inoct == 'a':\n",
    "            # direcly mounted on a roof\n",
    "            Tinoct = Tnoct+18\n",
    "        elif inoct =='b1':\n",
    "            # mounted on a roof with a stand off w=1 in\n",
    "            Tinoct = Tnoct+11\n",
    "        elif inoct =='b2':\n",
    "            # mounted on a roof with a stand off w=3 in\n",
    "            Tinoct = Tnoct+2\n",
    "        elif inoct =='b3':\n",
    "            # mounted on a roof with a stand off w=1 in\n",
    "            Tinoct = Tnoct-1\n",
    "        \n",
    "        # R is the Ratio of actual heat transfer coefficient (back side) to the ideal heat transfer coefficient (top side)\n",
    "        R = (alpha*Gm-h_c_top*(Tinoct - Ta) - emi_top*SB*(Tinoct**4 - Tsky**4)) / \\\n",
    "        (h_c_top*(Tinoct - Ta) + emi_top*SB*(Tinoct**4 - Tsky**4))\n",
    "    \n",
    "        # HTC for bottom side\n",
    "        h_c_bottom = R * h_c_top\n",
    "    \n",
    "        # total HTC\n",
    "        h_c = h_c_top + h_c_bottom\n",
    "    \n",
    "        # module temperature\n",
    "        Tm = (alpha*Gm + h_c*Ta + h_r_sky*Tsky + h_r_gr*Tgr) / (h_c + h_r_sky + h_r_gr)\n",
    "    \n",
    "    return Tm-273"
   ]
  },
  {
   "cell_type": "markdown",
   "metadata": {},
   "source": [
    "#### Examples of the function usage"
   ]
  },
  {
   "cell_type": "code",
   "execution_count": 43,
   "metadata": {},
   "outputs": [
    {
     "data": {
      "text/plain": [
       "30.499989132177973"
      ]
     },
     "execution_count": 43,
     "metadata": {},
     "output_type": "execute_result"
    }
   ],
   "source": [
    "# calculation method of htc for forced convection per definition\n",
    "pvModuleTemp(Tm0=20+273, Ta=Ta, w=w, method='1')"
   ]
  },
  {
   "cell_type": "code",
   "execution_count": 38,
   "metadata": {},
   "outputs": [
    {
     "data": {
      "text/plain": [
       "32.16107157867566"
      ]
     },
     "execution_count": 38,
     "metadata": {},
     "output_type": "execute_result"
    }
   ],
   "source": [
    "# calculation method of htc for forced convection with approximation\n",
    "pvModuleTemp(Tm0=293, Ta=Ta, w=w, method='2')"
   ]
  },
  {
   "cell_type": "code",
   "execution_count": 39,
   "metadata": {},
   "outputs": [
    {
     "data": {
      "text/plain": [
       "32.16093377524737"
      ]
     },
     "execution_count": 39,
     "metadata": {},
     "output_type": "execute_result"
    }
   ],
   "source": [
    "# checking influence of more interations (default is 5) here 8 iterations are used\n",
    "pvModuleTemp(Tm0=293, Ta=Ta, w=w, method='2', n=8)"
   ]
  },
  {
   "cell_type": "code",
   "execution_count": 45,
   "metadata": {},
   "outputs": [
    {
     "data": {
      "text/plain": [
       "34.24728114028227"
      ]
     },
     "execution_count": 45,
     "metadata": {},
     "output_type": "execute_result"
    }
   ],
   "source": [
    "# mounting of a module directly on a roof instead of rack mounting (default)\n",
    "pvModuleTemp(Tm0=20+273, Ta=Ta, w=w, method='1', inoct='a')"
   ]
  },
  {
   "cell_type": "code",
   "execution_count": 46,
   "metadata": {},
   "outputs": [
    {
     "data": {
      "text/plain": [
       "27.276266627361963"
      ]
     },
     "execution_count": 46,
     "metadata": {},
     "output_type": "execute_result"
    }
   ],
   "source": [
    "# clear sky\n",
    "pvModuleTemp(Tm0=20+273, Ta=Ta, w=w, method='1', sky='clear')"
   ]
  },
  {
   "cell_type": "code",
   "execution_count": 40,
   "metadata": {},
   "outputs": [
    {
     "data": {
      "text/plain": [
       "31.658847931136165"
      ]
     },
     "execution_count": 40,
     "metadata": {},
     "output_type": "execute_result"
    }
   ],
   "source": [
    "# simulation with laminar flow of forced convection\n",
    "# htc calculated per definition\n",
    "pvModuleTemp(Tm0=293, Ta=Ta, w=3, method='1')"
   ]
  },
  {
   "cell_type": "code",
   "execution_count": 41,
   "metadata": {},
   "outputs": [
    {
     "data": {
      "text/plain": [
       "32.4253310494077"
      ]
     },
     "execution_count": 41,
     "metadata": {},
     "output_type": "execute_result"
    }
   ],
   "source": [
    "# simulation with laminar flow of forced convection\n",
    "# htc calculated with approximation\n",
    "pvModuleTemp(Tm0=293, Ta=Ta, w=3, method='2')"
   ]
  },
  {
   "cell_type": "markdown",
   "metadata": {},
   "source": [
    "### Comparison of forced convection htc coefficients calculation methods"
   ]
  },
  {
   "cell_type": "code",
   "execution_count": 29,
   "metadata": {},
   "outputs": [
    {
     "data": {
      "text/plain": [
       "[(10.475776106212734, 3.623898318388478),\n",
       " (4.323564713552955, 1.7320508075688772)]"
      ]
     },
     "execution_count": 29,
     "metadata": {},
     "output_type": "execute_result"
    }
   ],
   "source": [
    "# hydraulic diameter of a PV module\n",
    "Dh = 2*L*W/(L+W)\n",
    "\n",
    "# Reynold's number\n",
    "Re = w*Dh/kvis\n",
    "\n",
    "# air density\n",
    "ro = 1.225 # [kg/m3]\n",
    "\n",
    "# air specific heat\n",
    "cv = 713 # [J/kgK]\n",
    "\n",
    "# turbulent flow\n",
    "#######################\n",
    "# based on definition\n",
    "h_tur1 = 0.028*Re**-0.2/(Pr**0.4)*ro*cv*w\n",
    "\n",
    "# approximation\n",
    "h_tur2 = w**0.8\n",
    "\n",
    "# laminar flow\n",
    "######################\n",
    "# based on definition\n",
    "h_lam1 = 0.86*Re**-0.5/(Pr**0.67)*ro*cv*3\n",
    "\n",
    "# approximation\n",
    "h_lam2 = 3**0.5\n",
    "\n",
    "[(h_tur1, h_tur2), (h_lam1, h_lam2)]"
   ]
  },
  {
   "cell_type": "code",
   "execution_count": null,
   "metadata": {
    "collapsed": true
   },
   "outputs": [],
   "source": []
  }
 ],
 "metadata": {
  "kernelspec": {
   "display_name": "Python 3",
   "language": "python",
   "name": "python3"
  },
  "language_info": {
   "codemirror_mode": {
    "name": "ipython",
    "version": 3
   },
   "file_extension": ".py",
   "mimetype": "text/x-python",
   "name": "python",
   "nbconvert_exporter": "python",
   "pygments_lexer": "ipython3",
   "version": "3.6.0"
  }
 },
 "nbformat": 4,
 "nbformat_minor": 2
}
