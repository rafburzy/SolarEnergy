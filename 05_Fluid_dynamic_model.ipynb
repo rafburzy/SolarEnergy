{
 "cells": [
  {
   "cell_type": "markdown",
   "metadata": {},
   "source": [
    "## Fluid dynamic model for PV module temperature estimation\n",
    "\n",
    "<img src=\"sourcedata/PV_module_temp.png\"><br>\n",
    "Source: DelftX training; delftx.tudelft.nl"
   ]
  },
  {
   "cell_type": "code",
   "execution_count": 1,
   "metadata": {
    "collapsed": true
   },
   "outputs": [],
   "source": [
    "# Meteorological Variables\n",
    "Gm = 400 # W/m2\n",
    "w = 5 # wind sped (m/s)\n",
    "Tgr = 13+273 # Temperature of ground (Kelvin)\n",
    "Ta = 15+273 # Temperature of air (Kelvin)\n",
    "\n",
    "# PV Module Parameters\n",
    "L = 1.56 # [m] PV module Length   \n",
    "W = 1.05 # [m] PV module Width\n",
    "emi_top = 0.84 # PV module top surface emissivity \n",
    "emi_bottom = 0.893 # PV module back surface emissivity\n",
    "Tnoct = 273+43 # NOCT Temperature is 43 degree celcius, obtained from the module spec sheet.\n",
    "Ref = 0.1 # reflectivity of PV module surface\n",
    "Eff_stc = 0.20 # efficiecny of the PV module at STC\n",
    "\n",
    "#Physical Constants\n",
    "g = 9.8 # [m/s2] \n",
    "Pr = 0.71 # Prandle Number\n",
    "kvis = 14.6e-6 # air viscosity \n",
    "k = 0.026 # [W/m*K] thermal conductivity of air  in   \n",
    "SB = 5.67e-8 # [W*m^-2*K^-4 ] Stefan-Boltzmnan constant "
   ]
  },
  {
   "cell_type": "code",
   "execution_count": 5,
   "metadata": {},
   "outputs": [
    {
     "name": "stdout",
     "output_type": "stream",
     "text": [
      "4.670817615323999 4.9147755226605 3.623898318388478 3.4035055118009003 10.594185471213006 -0.2696248666642787 7.737729626120561 304.05756890537566\n",
      "4.94587919251282 5.205880874490061 3.623898318388478 4.885683928450847 10.818658419340768 -0.2798735080761084 7.790802534842741 303.4709360313151\n",
      "4.930938743006334 5.190067943743905 3.623898318388478 4.830827511855203 10.80758477480276 -0.279374673660351 7.78821930528566 303.5014998546541\n",
      "4.93171617623362 5.190890774098951 3.623898318388478 4.83372363907378 10.808163724016937 -0.2794007707035409 7.788354449636552 303.4999060213642\n",
      "4.931675632238226 5.190847862585841 3.623898318388478 4.833572718203076 10.808133538629201 -0.2793994100965868 7.788347403691067 303.499989132178\n"
     ]
    }
   ],
   "source": [
    "Tm = 293  # [K] - Initial Temperature of the PV module --> 20+273 = 293 K\n",
    "for i in range(5):\n",
    "    # sky temperature (since we have 6 okta it can be assumed to be equal to air temp)\n",
    "    Tsky = Ta\n",
    "\n",
    "    # calculation of radiative heat transfer coefficient between module and sky\n",
    "    h_r_sky = emi_top * SB * (Tm**2 + Tsky**2) * (Tm + Tsky)\n",
    "\n",
    "    # calculation of radiative heat transfer coefficient between module and ground\n",
    "    h_r_gr = emi_bottom * SB * (Tm**2 + Tgr**2) * (Tm + Tgr)\n",
    "    \n",
    "    # since wind speed is greater than 3 m/s we have turbulent flow for forced convection\n",
    "\n",
    "    # hydraulic diameter of a PV module\n",
    "    Dh = 2*L*W/(L+W)\n",
    "\n",
    "    # Reynold's number\n",
    "    Re = w*Dh/kvis\n",
    "\n",
    "    # air density\n",
    "    ro = 1.225 # [kg/m3]\n",
    "\n",
    "    # air specific heat\n",
    "    cv = 713 # [J/kgK]\n",
    "\n",
    "    h_forced = 0.028*Re**-0.2/(Pr**0.4)*ro*cv*w\n",
    "\n",
    "    h_f2 = w**0.8\n",
    "    \n",
    "    # free convection\n",
    "\n",
    "    # Grashof number\n",
    "    Gr = g*1/Tm*(Tm - Ta)*Dh**3/kvis**2\n",
    "\n",
    "    # Nusselt number\n",
    "    Nu = 0.21*(Gr * Pr)**0.32\n",
    "\n",
    "    # free convection HTC\n",
    "    h_free = Nu*k/Dh\n",
    "    \n",
    "    # total convection for front surface\n",
    "    h_c_top = (h_free**3 + h_forced**3)**(1/3)\n",
    "    \n",
    "    # absorptivity \n",
    "    alpha = (1 - Ref)*(1 - Eff_stc)\n",
    "    \n",
    "    # temperature INOCT for rack mounted version\n",
    "    Tinoct = Tnoct-3\n",
    "\n",
    "    # R is the Ratio of actual heat transfer coefficient (back side) to the ideal heat transfer coefficient (top side)\n",
    "    R = (alpha*Gm-h_c_top*(Tinoct - Ta) - emi_top*SB*(Tinoct**4 - Tsky**4)) / \\\n",
    "    (h_c_top*(Tinoct - Ta) + emi_top*SB*(Tinoct**4 - Tsky**4))\n",
    "    \n",
    "    # HTC for bottom side\n",
    "    h_c_bottom = R * h_c_top\n",
    "    \n",
    "    # total HTC\n",
    "    h_c = h_c_top + h_c_bottom\n",
    "    \n",
    "    # module temperature\n",
    "    Tm = (alpha*Gm + h_c*Ta + h_r_sky*Tsky + h_r_gr*Tgr) / (h_c + h_r_sky + h_r_gr)\n",
    "\n",
    "    print(h_r_sky, h_r_gr, h_f2, h_free, h_c_top, R, h_c, Tm)"
   ]
  },
  {
   "cell_type": "code",
   "execution_count": 6,
   "metadata": {},
   "outputs": [
    {
     "data": {
      "text/plain": [
       "30.499989132177973"
      ]
     },
     "execution_count": 6,
     "metadata": {},
     "output_type": "execute_result"
    }
   ],
   "source": [
    "Tm - 273"
   ]
  },
  {
   "cell_type": "code",
   "execution_count": 4,
   "metadata": {},
   "outputs": [
    {
     "data": {
      "text/plain": [
       "(10.475776106212734, 3.623898318388478)"
      ]
     },
     "execution_count": 4,
     "metadata": {},
     "output_type": "execute_result"
    }
   ],
   "source": [
    "# since wind speed is greater than 3 m/s we have turbulent flow for forced convection\n",
    "\n",
    "# hydraulic diameter of a PV module\n",
    "Dh = 2*L*W/(L+W)\n",
    "\n",
    "# Reynold's number\n",
    "Re = w*Dh/kvis\n",
    "\n",
    "# air density\n",
    "ro = 1.225 # [kg/m3]\n",
    "\n",
    "# air specific heat\n",
    "cv = 713 # [J/kgK]\n",
    "\n",
    "h_forced = 0.028*Re**-0.2/(Pr**0.4)*ro*cv*w\n",
    "\n",
    "h_f2 = w**0.8\n",
    "\n",
    "(h_forced, h_f2)"
   ]
  },
  {
   "cell_type": "code",
   "execution_count": null,
   "metadata": {
    "collapsed": true
   },
   "outputs": [],
   "source": []
  }
 ],
 "metadata": {
  "kernelspec": {
   "display_name": "Python 3",
   "language": "python",
   "name": "python3"
  },
  "language_info": {
   "codemirror_mode": {
    "name": "ipython",
    "version": 3
   },
   "file_extension": ".py",
   "mimetype": "text/x-python",
   "name": "python",
   "nbconvert_exporter": "python",
   "pygments_lexer": "ipython3",
   "version": "3.6.0"
  }
 },
 "nbformat": 4,
 "nbformat_minor": 2
}
