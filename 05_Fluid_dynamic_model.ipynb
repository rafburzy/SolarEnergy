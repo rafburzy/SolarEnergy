{
 "cells": [
  {
   "cell_type": "markdown",
   "metadata": {},
   "source": [
    "## Fluid dynamic model for PV module temperature estimation\n",
    "\n",
    "<img src=\"sourcedata/PV_module_temp.png\"><br>\n",
    "Source: DelftX training; delftx.tudelft.nl"
   ]
  },
  {
   "cell_type": "code",
   "execution_count": 3,
   "metadata": {},
   "outputs": [],
   "source": [
    "# Meteorological Variables\n",
    "Gm = 400 # W/m2\n",
    "w = 5 # wind sped (m/s)\n",
    "Tgr = 13+273 # Temperature of ground (Kelvin)\n",
    "Ta = 15+273 # Temperature of air (Kelvin)\n",
    "\n",
    "# PV Module Parameters\n",
    "L = 1.56 # [m] PV module Length   \n",
    "W = 1.05 # [m] PV module Width\n",
    "emi_top = 0.84 # PV module top surface emissivity \n",
    "emi_bottom = 0.893 # PV module back surface emissivity\n",
    "Tnoct = 273+43 # NOCT Temperature is 43 degree celcius, obtained from the module spec sheet.\n",
    "Ref = 0.1 # reflectivity of PV module surface\n",
    "Eff_stc = 0.20 # efficiecny of the PV module at STC\n",
    "\n",
    "#Physical Constants\n",
    "g = 9.8 # [m/s2] \n",
    "Pr = 0.71 # Prandle Number\n",
    "kvis = 14.6*10**-6 # air viscosity \n",
    "k = 0.026 # [W/m*K] thermal conductivity of air  in   \n",
    "SB = 5.67*10**-8 # [W*m^-2*K^-4 ] Stefan-Boltzmnan constant \n",
    "\n",
    "Tm = 293  # [K] - Initial Temperature of the PV module --> 20+273 = 293 K"
   ]
  },
  {
   "cell_type": "code",
   "execution_count": null,
   "metadata": {
    "collapsed": true
   },
   "outputs": [],
   "source": []
  }
 ],
 "metadata": {
  "kernelspec": {
   "display_name": "Python 3",
   "language": "python",
   "name": "python3"
  },
  "language_info": {
   "codemirror_mode": {
    "name": "ipython",
    "version": 3
   },
   "file_extension": ".py",
   "mimetype": "text/x-python",
   "name": "python",
   "nbconvert_exporter": "python",
   "pygments_lexer": "ipython3",
   "version": "3.6.0"
  }
 },
 "nbformat": 4,
 "nbformat_minor": 2
}
