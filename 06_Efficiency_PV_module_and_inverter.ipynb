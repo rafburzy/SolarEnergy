{
 "cells": [
  {
   "cell_type": "markdown",
   "metadata": {},
   "source": [
    "## Efficiency calculations"
   ]
  },
  {
   "cell_type": "markdown",
   "metadata": {},
   "source": [
    "#### Module efficiency impacted by irradiance and temperature\n",
    "The type of PV module chosen is a mono crystalline silicon module that has the following parameters."
   ]
  },
  {
   "cell_type": "code",
   "execution_count": 4,
   "metadata": {
    "collapsed": true
   },
   "outputs": [],
   "source": [
    "import numpy as np"
   ]
  },
  {
   "cell_type": "code",
   "execution_count": 2,
   "metadata": {},
   "outputs": [],
   "source": [
    "# PV module data\n",
    "L = 1.56 # PV Module Length (m)\n",
    "W = 1.05 # PV Module Width (m)\n",
    "\n",
    "Voc_stc = 67.6 # [V]\n",
    "Isc_stc = 6.07 # [A]\n",
    "Vmpp_stc = 57.3 # [V]\n",
    "Impp_stc = 5.71 # [A]\n",
    "k_coeff = -0.0035 #[C^-1]\n",
    "\n",
    "n = 1.5\n",
    "kb = 1.381e-23  #[J/K]\n",
    "q = 1.602e-19 # [C];\n",
    "\n",
    "Gstc = 1000 # [W/m2]\n",
    "Tm_stc = 273+25 # [K]\n",
    "Gm = 400 # [W/m2]\n",
    "Tm = 32+273 # [K]"
   ]
  },
  {
   "cell_type": "code",
   "execution_count": 5,
   "metadata": {},
   "outputs": [
    {
     "data": {
      "text/plain": [
       "0.1996410929478602"
      ]
     },
     "execution_count": 5,
     "metadata": {},
     "output_type": "execute_result"
    }
   ],
   "source": [
    "# Effect of only irradiance on PV module performance\n",
    "\n",
    "# Area of PV module\n",
    "A = L*W \n",
    "\n",
    "# Fill Factor\n",
    "FF = Impp_stc*Vmpp_stc/(Voc_stc*Isc_stc)\n",
    "\n",
    "# Open circuit voltage of the PV module, when only the effect of irradiance (Gm) is considered.\n",
    "Voc_gm = Voc_stc + n*kb*Tm_stc/q * np.log(Gm/Gstc)\n",
    "\n",
    "# Short circuit current of the PV module, when only the effect of irradiance (Gm) is considered.\n",
    "Isc_gm = Isc_stc*Gm/Gstc\n",
    "\n",
    "# Power at maximum power-point of the PV module, when only the effect of irradiance (Gm) is considered.\n",
    "Pmpp_gm = FF*Voc_gm*Isc_gm\n",
    "\n",
    "# Efficiency of the PV module, when only the effect of irradiance (Gm) is considered.\n",
    "Eff_gm = (Pmpp_gm/A)/Gm \n",
    "Eff_gm"
   ]
  },
  {
   "cell_type": "code",
   "execution_count": 6,
   "metadata": {},
   "outputs": [
    {
     "data": {
      "text/plain": [
       "0.19474988617063763"
      ]
     },
     "execution_count": 6,
     "metadata": {},
     "output_type": "execute_result"
    }
   ],
   "source": [
    "# Effect of both irradiance and temperature on PV module performance\n",
    "Eff = Eff_gm*(1+k_coeff*(Tm-273-25))\n",
    "Eff"
   ]
  },
  {
   "cell_type": "code",
   "execution_count": null,
   "metadata": {
    "collapsed": true
   },
   "outputs": [],
   "source": []
  }
 ],
 "metadata": {
  "kernelspec": {
   "display_name": "Python 3",
   "language": "python",
   "name": "python3"
  },
  "language_info": {
   "codemirror_mode": {
    "name": "ipython",
    "version": 3
   },
   "file_extension": ".py",
   "mimetype": "text/x-python",
   "name": "python",
   "nbconvert_exporter": "python",
   "pygments_lexer": "ipython3",
   "version": "3.6.0"
  }
 },
 "nbformat": 4,
 "nbformat_minor": 2
}
